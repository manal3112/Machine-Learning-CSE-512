{
 "cells": [
  {
   "cell_type": "code",
   "execution_count": 5,
   "metadata": {},
   "outputs": [],
   "source": [
    "import numpy as np\n",
    "import matplotlib.pyplot as plt\n",
    "from sklearn import tree\n",
    "import scipy.io as sio"
   ]
  },
  {
   "cell_type": "code",
   "execution_count": 7,
   "metadata": {},
   "outputs": [
    {
     "name": "stdout",
     "output_type": "stream",
     "text": [
      "(1958, 784) (1991, 784) (1958,) (1991,)\n"
     ]
    }
   ],
   "source": [
    "\"\"\"\n",
    "data = sio.loadmat('mnist.mat')\n",
    "\n",
    "\n",
    "Xtrain = data['trainX'][:10000,:].astype(int)\n",
    "Xtest = data['testX'].astype(int)\n",
    "ytrain =data['trainY'][0,:10000].astype(int)\n",
    "ytest =  data['testY'][0,:].astype(int)\n",
    "\n",
    "idx = np.logical_or(np.equal(ytrain,4), np.equal(ytrain,9))\n",
    "Xtrain = Xtrain[idx,:]\n",
    "ytrain = ytrain[idx]\n",
    "ytrain[np.equal(ytrain,4)] = 1\n",
    "ytrain[np.equal(ytrain,9)] = -1\n",
    "\n",
    "idx = np.logical_or(np.equal(ytest,4), np.equal(ytest,9))\n",
    "Xtest = Xtest[idx,:]\n",
    "ytest = ytest[idx]\n",
    "ytest[np.equal(ytest,4)] = 1\n",
    "ytest[np.equal(ytest,9)] = -1\n",
    "\n",
    "\n",
    "sio.savemat('mnist_binary_small.mat',{'Xtrain':Xtrain,'ytrain':ytrain,'Xtest':Xtest,'ytest':ytest})\n",
    "\"\"\"\n",
    "\n",
    "data = sio.loadmat('mnist_binary_small.mat')\n",
    "Xtrain = data['Xtrain']\n",
    "Xtest = data['Xtest']\n",
    "ytrain = data['ytrain'][0,:]\n",
    "ytest = data['ytest'][0,:]\n",
    "\n",
    "print(Xtrain.shape, Xtest.shape, ytrain.shape, ytest.shape)\n"
   ]
  },
  {
   "cell_type": "code",
   "execution_count": 3,
   "metadata": {},
   "outputs": [],
   "source": [
    "def get_weighted_misclass(w,y,yhat):\n",
    "    return 0.\n",
    "\n",
    "def get_misclass(y,yhat):\n",
    "    return 0.\n",
    "\n",
    "\n",
    "def get_exp_loss(y,yhat):\n",
    "    return 0."
   ]
  },
  {
   "cell_type": "code",
   "execution_count": null,
   "metadata": {},
   "outputs": [],
   "source": []
  }
 ],
 "metadata": {
  "kernelspec": {
   "display_name": "Python 3",
   "language": "python",
   "name": "python3"
  },
  "language_info": {
   "codemirror_mode": {
    "name": "ipython",
    "version": 3
   },
   "file_extension": ".py",
   "mimetype": "text/x-python",
   "name": "python",
   "nbconvert_exporter": "python",
   "pygments_lexer": "ipython3",
   "version": "3.8.8"
  }
 },
 "nbformat": 4,
 "nbformat_minor": 4
}
