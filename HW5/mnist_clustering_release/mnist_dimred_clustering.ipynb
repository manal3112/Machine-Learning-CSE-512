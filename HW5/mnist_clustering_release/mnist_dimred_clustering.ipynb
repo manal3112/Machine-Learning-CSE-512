{
 "cells": [
  {
   "cell_type": "code",
   "execution_count": 1,
   "metadata": {},
   "outputs": [],
   "source": [
    "import numpy as np\n",
    "import matplotlib.pyplot as plt\n",
    "\n",
    "import scipy.io as sio"
   ]
  },
  {
   "cell_type": "code",
   "execution_count": 2,
   "metadata": {},
   "outputs": [
    {
     "name": "stdout",
     "output_type": "stream",
     "text": [
      "(1000, 784) (1000,)\n"
     ]
    }
   ],
   "source": [
    "data = sio.loadmat('mnist.mat')\n",
    "X = data['trainX'].astype(float)/255\n",
    "y = data['trainY'][0,:]\n",
    "idx = np.less(y,5)\n",
    "X = X[idx,:]\n",
    "y = y[idx]\n",
    "X = X[:1000,:]\n",
    "y = y[:1000]\n",
    "m,n = X.shape\n",
    "test_idx = np.array(range(25))\n",
    "print(X.shape,y.shape)\n"
   ]
  },
  {
   "cell_type": "code",
   "execution_count": 3,
   "metadata": {},
   "outputs": [
    {
     "name": "stdout",
     "output_type": "stream",
     "text": [
      "160239119987.1912\n"
     ]
    }
   ],
   "source": [
    "def get_distance(X,z,D1=None): \n",
    "    return 0\n",
    "\n",
    "# Don't change this! Return what you see printed out.\n",
    "print(np.sum(get_distance(X,np.array(range(n)))))"
   ]
  },
  {
   "cell_type": "code",
   "execution_count": 14,
   "metadata": {},
   "outputs": [],
   "source": [
    "\n",
    "\n",
    "\n",
    "\n",
    "def kmeans(X,K):\n",
    "    return  class_membership\n",
    "\n",
    "\n",
    "#use this to plot your final kmeans results\n",
    "def plot_class_membership(class_membership):\n",
    "    plt.figure(figsize=(20,10))\n",
    "    max_per_class = 0\n",
    "    for k in range(K):\n",
    "        per_class = np.equal(class_membership,k)\n",
    "        if sum(per_class) > max_per_class:\n",
    "            max_per_class = sum(per_class)\n",
    "    \n",
    "    for k in range(K):\n",
    "        S = np.where(np.equal(class_membership,k))[0]\n",
    "        for ii in range(len(S)):\n",
    "            i = S[ii]\n",
    "            plt.subplot(K,max_per_class,max_per_class*k+ii+1)\n",
    "            plt.imshow(np.reshape(X[i,:],(28,28)))\n",
    "        \n",
    "    \n",
    "def overall_purity(class_membership) :\n",
    "    return 0\n"
   ]
  },
  {
   "cell_type": "code",
   "execution_count": null,
   "metadata": {},
   "outputs": [],
   "source": []
  }
 ],
 "metadata": {
  "kernelspec": {
   "display_name": "Python 3",
   "language": "python",
   "name": "python3"
  },
  "language_info": {
   "codemirror_mode": {
    "name": "ipython",
    "version": 3
   },
   "file_extension": ".py",
   "mimetype": "text/x-python",
   "name": "python",
   "nbconvert_exporter": "python",
   "pygments_lexer": "ipython3",
   "version": "3.8.8"
  }
 },
 "nbformat": 4,
 "nbformat_minor": 4
}
